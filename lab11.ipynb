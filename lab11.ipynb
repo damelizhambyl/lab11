{
 "cells": [
  {
   "cell_type": "code",
   "execution_count": null,
   "id": "4c86ea13-490d-42d9-9f27-885241235490",
   "metadata": {},
   "outputs": [
    {
     "name": "stdout",
     "output_type": "stream",
     "text": [
      "\n",
      "        === MENU ===\n",
      "        [i] Insert (console ot csv)\n",
      "        [u] Update\n",
      "        [d] Delete\n",
      "        [q] Query\n",
      "        [s] Show all\n",
      "        [p] Pattern search\n",
      "        [f] Finish\n",
      "        \n"
     ]
    },
    {
     "name": "stdin",
     "output_type": "stream",
     "text": [
      "Choose command:  u\n",
      "Which column to update (name/surname/phone):  Zhanna Bakanova 87751084922\n"
     ]
    },
    {
     "name": "stdout",
     "output_type": "stream",
     "text": [
      "\n",
      "        === MENU ===\n",
      "        [i] Insert (console ot csv)\n",
      "        [u] Update\n",
      "        [d] Delete\n",
      "        [q] Query\n",
      "        [s] Show all\n",
      "        [p] Pattern search\n",
      "        [f] Finish\n",
      "        \n"
     ]
    },
    {
     "name": "stdin",
     "output_type": "stream",
     "text": [
      "Choose command:  s\n"
     ]
    },
    {
     "name": "stdout",
     "output_type": "stream",
     "text": [
      "╒══════╤════════╤═══════════╤══════════════╕\n",
      "│   ID │ Name   │ Surname   │        Phone │\n",
      "╞══════╪════════╪═══════════╪══════════════╡\n",
      "│    1 │ Dameli │ Zhambyl   │  87751084922 │\n",
      "├──────┼────────┼───────────┼──────────────┤\n",
      "│    2 │ Aida   │ Zhambyl   │  87769605346 │\n",
      "├──────┼────────┼───────────┼──────────────┤\n",
      "│    3 │ Aziza  │ Zhambyl   │ 879056753322 │\n",
      "├──────┼────────┼───────────┼──────────────┤\n",
      "│    4 │ Dameli │ Zhambyl   │  87751084922 │\n",
      "╘══════╧════════╧═══════════╧══════════════╛\n",
      "\n",
      "        === MENU ===\n",
      "        [i] Insert (console ot csv)\n",
      "        [u] Update\n",
      "        [d] Delete\n",
      "        [q] Query\n",
      "        [s] Show all\n",
      "        [p] Pattern search\n",
      "        [f] Finish\n",
      "        \n"
     ]
    },
    {
     "name": "stdin",
     "output_type": "stream",
     "text": [
      "Choose command:  u\n",
      "Which column to update (name/surname/phone):  Aida 87751084922\n"
     ]
    },
    {
     "name": "stdout",
     "output_type": "stream",
     "text": [
      "\n",
      "        === MENU ===\n",
      "        [i] Insert (console ot csv)\n",
      "        [u] Update\n",
      "        [d] Delete\n",
      "        [q] Query\n",
      "        [s] Show all\n",
      "        [p] Pattern search\n",
      "        [f] Finish\n",
      "        \n"
     ]
    },
    {
     "name": "stdin",
     "output_type": "stream",
     "text": [
      "Choose command:  s\n"
     ]
    },
    {
     "name": "stdout",
     "output_type": "stream",
     "text": [
      "╒══════╤════════╤═══════════╤══════════════╕\n",
      "│   ID │ Name   │ Surname   │        Phone │\n",
      "╞══════╪════════╪═══════════╪══════════════╡\n",
      "│    1 │ Dameli │ Zhambyl   │  87751084922 │\n",
      "├──────┼────────┼───────────┼──────────────┤\n",
      "│    2 │ Aida   │ Zhambyl   │  87769605346 │\n",
      "├──────┼────────┼───────────┼──────────────┤\n",
      "│    3 │ Aziza  │ Zhambyl   │ 879056753322 │\n",
      "├──────┼────────┼───────────┼──────────────┤\n",
      "│    4 │ Dameli │ Zhambyl   │  87751084922 │\n",
      "╘══════╧════════╧═══════════╧══════════════╛\n",
      "\n",
      "        === MENU ===\n",
      "        [i] Insert (console ot csv)\n",
      "        [u] Update\n",
      "        [d] Delete\n",
      "        [q] Query\n",
      "        [s] Show all\n",
      "        [p] Pattern search\n",
      "        [f] Finish\n",
      "        \n"
     ]
    },
    {
     "name": "stdin",
     "output_type": "stream",
     "text": [
      "Choose command:  u\n",
      "Which column to update (name/surname/phone):  name\n",
      "Enter current name:  Dameli\n",
      "Enter new name:  Zhanna\n"
     ]
    },
    {
     "name": "stdout",
     "output_type": "stream",
     "text": [
      "\n",
      "        === MENU ===\n",
      "        [i] Insert (console ot csv)\n",
      "        [u] Update\n",
      "        [d] Delete\n",
      "        [q] Query\n",
      "        [s] Show all\n",
      "        [p] Pattern search\n",
      "        [f] Finish\n",
      "        \n"
     ]
    },
    {
     "name": "stdin",
     "output_type": "stream",
     "text": [
      "Choose command:  s\n"
     ]
    },
    {
     "name": "stdout",
     "output_type": "stream",
     "text": [
      "╒══════╤════════╤═══════════╤══════════════╕\n",
      "│   ID │ Name   │ Surname   │        Phone │\n",
      "╞══════╪════════╪═══════════╪══════════════╡\n",
      "│    2 │ Aida   │ Zhambyl   │  87769605346 │\n",
      "├──────┼────────┼───────────┼──────────────┤\n",
      "│    3 │ Aziza  │ Zhambyl   │ 879056753322 │\n",
      "├──────┼────────┼───────────┼──────────────┤\n",
      "│    1 │ Zhanna │ Zhambyl   │  87751084922 │\n",
      "├──────┼────────┼───────────┼──────────────┤\n",
      "│    4 │ Zhanna │ Zhambyl   │  87751084922 │\n",
      "╘══════╧════════╧═══════════╧══════════════╛\n",
      "\n",
      "        === MENU ===\n",
      "        [i] Insert (console ot csv)\n",
      "        [u] Update\n",
      "        [d] Delete\n",
      "        [q] Query\n",
      "        [s] Show all\n",
      "        [p] Pattern search\n",
      "        [f] Finish\n",
      "        \n"
     ]
    }
   ],
   "source": [
    "import psycopg2\n",
    "import csv\n",
    "from tabulate import tabulate\n",
    "\n",
    "conn = psycopg2.connect(\n",
    "    host = \"localhost\", dbname = \"lab10\", user = \"postgres\",\n",
    "    password = \"damelyaa21\", port = 5432\n",
    ")\n",
    "\n",
    "cur = conn.cursor()\n",
    "\n",
    "cur.execute(\"\"\"\n",
    "            CREATE TABLE IF NOT EXISTS phonebook (\n",
    "            user_id SERIAL PRIMARY KEY,\n",
    "            name VARCHAR(255) NOT NULL,\n",
    "            surname VARCHAR(255) NOT NULL,\n",
    "            phone VARCHAR(255) NOT NULL\n",
    "            )\n",
    "\"\"\")\n",
    "conn.commit()\n",
    "\n",
    "def insert_console():\n",
    "    name = input(\"Name: \")\n",
    "    surname = input(\"Surname: \")\n",
    "    phone = input(\"Phone: \")\n",
    "    cur.execute(\"INSERT INTO phonebook (name, surname, phone) VALUES (%s, %s, %s)\", (name, surname, phone))\n",
    "    conn.commit()\n",
    "\n",
    "\n",
    "\n",
    "def insert_csv():\n",
    "    path = input(\"Enter CSV file path: \")\n",
    "    with open(path, 'r') as f:\n",
    "        reader = csv.reader(f)\n",
    "        next(reader)\n",
    "        for row in reader:\n",
    "            cur.execute(\"INSERT INTO phonebook (name, surname, phone) VALUES (%s, %s, %s)\", tuple(row))\n",
    "    conn.commit()\n",
    "\n",
    "def update_column(column):\n",
    "    old_value = input(f\"Enter current {column}: \")\n",
    "    new_value = input(f\"Enter new {column}: \")\n",
    "    cur.execute(f\"UPDATE phonebook SET {column} = %s WHERE {column} = %s\", (new_value, old_value))\n",
    "    conn.commit\n",
    "\n",
    "\n",
    "\n",
    "def delete_user():\n",
    "    field = input(\"Delete by (id/name/phone): \").lower()\n",
    "    \n",
    "    if field not in [\"id\", \"name\", \"phone\"]:\n",
    "        print(\"Invalid input. Choose 'id', 'name' or 'phone'.\")\n",
    "        return\n",
    "\n",
    "    value = input(f\"Enter {field} to delete: \")\n",
    "\n",
    "    if field == \"id\":\n",
    "        cur.execute(\"DELETE FROM phonebook WHERE user_id = %s\", (value,))\n",
    "    else:\n",
    "        cur.execute(f\"DELETE FROM phonebook WHERE {field} = %s\", (value,))\n",
    "\n",
    "    conn.commit()\n",
    "    print(\"User deleted if match was found.\")\n",
    "\n",
    "def query_by_column(column):\n",
    "    value = input(f\"Enter {column}: \")\n",
    "    if column == \"id\": \n",
    "        column = \"user_id\"\n",
    "    cur.execute(f\"SELECT * FROM phonebook WHERE {column} = %s\", (value,))\n",
    "    rows = cur.fetchall()\n",
    "    print(tabulate(rows, headers=[\"ID\", \"Name\", \"Surname\", \"Phone\"]))\n",
    "\n",
    "def show_all():\n",
    "    cur.execute(\"SELECT * FROM phonebook\")\n",
    "    rows = cur.fetchall()\n",
    "    print(tabulate(rows, headers = [\"ID\", \"Name\", \"Surname\", \"Phone\"], tablefmt=\"fancy_grid\"))\n",
    "    \n",
    "def search_by_pattern():\n",
    "    pattern = input(\"Enter pattern: \")\n",
    "    cur.execute(\"SELECT * FROM phonebook WHERE name ILIKE %s OR surname ILIKE %s OR phone ILIKE %s\",\n",
    "                (f'%{pattern}%', f'%{pattern}%', f'%{pattern}%'))\n",
    "    rows = cur.fetchall()\n",
    "    print(tabulate(rows, headers=[\"ID\", \"Name\", \"Surname\", \"Phone\"], tablefmt=\"grid\"))\n",
    "\n",
    "\n",
    "def menu():\n",
    "    while True:\n",
    "        print(\"\"\"\n",
    "        === MENU ===\n",
    "        [i] Insert (console ot csv)\n",
    "        [u] Update\n",
    "        [d] Delete\n",
    "        [q] Query\n",
    "        [s] Show all\n",
    "        [p] Pattern search\n",
    "        [f] Finish\n",
    "        \"\"\")\n",
    "        cmd = input(\"Choose command: \").lower()\n",
    "\n",
    "        if cmd == \"i\":\n",
    "            opt = input('Type \"csv\" to upload file or \"con\" to enter manually: ')\n",
    "            if opt == \"con\": insert_console()\n",
    "            elif opt == \"csv\": insert_csv()\n",
    "\n",
    "        elif cmd == \"u\":\n",
    "            col = input(\"Which column to update (name/surname/phone): \")\n",
    "            if col in [\"name\", \"surname\", \"phone\"]:\n",
    "                update_column(col)\n",
    "\n",
    "        elif cmd == \"d\":\n",
    "            delete_user()\n",
    "\n",
    "        elif cmd == \"q\":\n",
    "            col = input(\"Search by (id/name/surname/phone): \")\n",
    "            if col in [\"id\", \"name\", \"surname\", \"phone\"]:\n",
    "                query_by_column(col)\n",
    "\n",
    "        elif cmd == \"s\":\n",
    "            show_all()\n",
    "\n",
    "        elif cmd == \"p\":\n",
    "            search_by_pattern()\n",
    "\n",
    "        elif cmd == \"f\":\n",
    "            break\n",
    "\n",
    "menu()\n",
    "\n",
    "cur.close()\n",
    "conn.close()"
   ]
  }
 ],
 "metadata": {
  "kernelspec": {
   "display_name": "Python [conda env:base] *",
   "language": "python",
   "name": "conda-base-py"
  },
  "language_info": {
   "codemirror_mode": {
    "name": "ipython",
    "version": 3
   },
   "file_extension": ".py",
   "mimetype": "text/x-python",
   "name": "python",
   "nbconvert_exporter": "python",
   "pygments_lexer": "ipython3",
   "version": "3.12.7"
  }
 },
 "nbformat": 4,
 "nbformat_minor": 5
}
